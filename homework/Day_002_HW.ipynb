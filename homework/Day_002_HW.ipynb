{
 "cells": [
  {
   "cell_type": "code",
   "execution_count": null,
   "metadata": {},
   "outputs": [],
   "source": [
    "\"\"\"\n",
    "思考題_請找出一個你認為機器學習可以發光發熱的領域並闡述原因?\n",
    "\n",
    "自動駕駛。\n",
    "這是最早吸引我注意到影像辨識的主題；也許因為我是個開車會想睡覺的人，但很多時候必須繼續開下去，即使是一車滿載的情況下。\n",
    "人很精密、很聰明，但，人為錯誤實在太多太可怕(酒駕、精神不濟、看美女看帥哥、找路、接電話、看手機訊息、等等)。我最初認為\n",
    "，至少應該在長程旅途中以自駕(或是像Boring公司做的定軌/定點運輸)來渡過高速公路這段變化較少、且較無趣的階段；也利用這段\n",
    "時間可以做做其他的事情。當然，自駕這部分已經被很多公司實現，但離普及(市井小民)還很遠。\n",
    "\"\"\""
   ]
  }
 ],
 "metadata": {
  "kernelspec": {
   "display_name": "Python 3",
   "language": "python",
   "name": "python3"
  },
  "language_info": {
   "codemirror_mode": {
    "name": "ipython",
    "version": 3
   },
   "file_extension": ".py",
   "mimetype": "text/x-python",
   "name": "python",
   "nbconvert_exporter": "python",
   "pygments_lexer": "ipython3",
   "version": "3.7.3"
  }
 },
 "nbformat": 4,
 "nbformat_minor": 2
}
